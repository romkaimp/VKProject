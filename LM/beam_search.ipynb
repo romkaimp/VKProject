{
 "cells": [
  {
   "cell_type": "code",
   "id": "initial_id",
   "metadata": {
    "collapsed": true,
    "ExecuteTime": {
     "end_time": "2025-04-15T09:56:33.108219Z",
     "start_time": "2025-04-15T09:56:33.105881Z"
    }
   },
   "source": [
    "import torch\n",
    "import torch.nn as nn\n",
    "import torch.nn.functional as F\n",
    "\n",
    "from torch.utils.data import Dataset, DataLoader, Subset\n",
    "import torchaudio.datasets as datasets\n",
    "from sklearn.model_selection import train_test_split\n",
    "\n",
    "from transformer import TransformerLanguageModel\n",
    "\n",
    "from tokenizer.BPE import tokenize, tokenizer\n",
    "import pickle as pkl\n",
    "import os\n",
    "import glob"
   ],
   "outputs": [],
   "execution_count": 16
  },
  {
   "metadata": {},
   "cell_type": "markdown",
   "source": "### configs",
   "id": "f291a415755d9c3e"
  },
  {
   "metadata": {
    "ExecuteTime": {
     "end_time": "2025-04-15T09:47:31.334653Z",
     "start_time": "2025-04-15T09:47:31.171087Z"
    }
   },
   "cell_type": "code",
   "source": [
    "current_dir = os.getcwd()\n",
    "\n",
    "merges_path = os.path.join(current_dir, \"tokenizer\", \"merges.pkl\")\n",
    "vocab_path = os.path.join(current_dir, \"tokenizer\", \"vocabulary.pkl\")\n",
    "\n",
    "# Загрузка merges.pkl\n",
    "with open(merges_path, \"rb\") as f:\n",
    "    merges = pkl.load(f)\n",
    "    print(\"Загрузка merges.pkl успешна\")\n",
    "\n",
    "# Загрузка vocab.pkl\n",
    "with open(vocab_path, \"rb\") as f:\n",
    "    vocab = pkl.load(f)\n",
    "    print(\"Загрузка vocabulary.pkl успешна\")\n",
    "\n",
    "text = 'HELLO MY NAME IS BILL'\n",
    "tokens = [vocab[0]] + tokenize(text, merges) + [vocab[1]]\n",
    "\n",
    "token_to_id = {vocab[i]: i for i in range(len(vocab))}\n",
    "id_to_token = {i: vocab[i] for i in range(len(vocab))}\n",
    "PAD_ID = 2\n",
    "\n",
    "config = {\n",
    "    'dim_feedforward': 64,\n",
    "    'num_heads': 8,\n",
    "    'num_layers': 8,\n",
    "    'learning_rate': 0.001,\n",
    "    'batch_size': 64,\n",
    "    'epochs': 256,\n",
    "    'embedding_dim': 64,\n",
    "    'dataset': \"LibriSpeech dev-clean\",\n",
    "    'vocab_size': len(vocab),\n",
    "}\n",
    "\n",
    "vocab_size = config['vocab_size']\n",
    "embedding_dim = config['embedding_dim']\n",
    "dim_feedforward = config['dim_feedforward']\n",
    "num_heads = config['num_heads']\n",
    "num_layers = config['num_layers']\n",
    "num_epochs = config['epochs']\n",
    "\n",
    "device = torch.device(\"cuda\" if torch.cuda.is_available() else \"cpu\")\n",
    "\n",
    "model = TransformerLanguageModel(vocab_size, embedding_dim, num_heads, dim_feedforward, num_layers).to(device)"
   ],
   "id": "308c80c561cb0e5f",
   "outputs": [
    {
     "name": "stdout",
     "output_type": "stream",
     "text": [
      "Загрузка merges.pkl успешна\n",
      "Загрузка vocabulary.pkl успешна\n"
     ]
    }
   ],
   "execution_count": 9
  },
  {
   "metadata": {},
   "cell_type": "markdown",
   "source": "### Dataset",
   "id": "ea6692c33080f77"
  },
  {
   "metadata": {
    "ExecuteTime": {
     "end_time": "2025-04-15T09:49:58.369667Z",
     "start_time": "2025-04-15T09:49:52.549282Z"
    }
   },
   "cell_type": "code",
   "source": [
    "data = datasets.LIBRISPEECH(\"../data\", url=\"dev-clean\", )\n",
    "corpus = []\n",
    "for i in range(2800):\n",
    "    try:\n",
    "        corpus.append(list(map(lambda x: token_to_id[x], [vocab[0]] + tokenize(data.__getitem__(i)[2], merges) + [vocab[1]])))\n",
    "    except IndexError as err:\n",
    "        break\n",
    "\n",
    "max_length = max(len(seq) for seq in corpus)\n",
    "print(max_length)\n",
    "class TextDataset(Dataset):\n",
    "    def __init__(self, data, max_len):\n",
    "        self.data = data\n",
    "        self.max_len = max_len\n",
    "\n",
    "    def __len__(self):\n",
    "        return len(self.data)\n",
    "\n",
    "    def __getitem__(self, idx):\n",
    "        sample = torch.tensor(self.data[idx], dtype=torch.int16)\n",
    "        sample = sample[:self.max_len]\n",
    "        length = sample.shape[-1]\n",
    "        padding = torch.ones((self.max_len - sample.shape[-1])) * 2\n",
    "        sample = torch.cat((sample, padding), dim=0)\n",
    "        return torch.tensor(sample, dtype=torch.float), length\n",
    "\n",
    "dataset = TextDataset(corpus, max_length)\n",
    "\n",
    "train_indices, val_indices = train_test_split(list(range(len(dataset))), test_size=0.2)\n",
    "\n",
    "# Создание тренировочного и валидационного датасетов\n",
    "train_dataset = Subset(dataset, train_indices)\n",
    "val_dataset = Subset(dataset, val_indices)\n",
    "\n",
    "# Создание DataLoader-ов для тренировочного и валидационного датасетов\n",
    "train_loader = DataLoader(train_dataset, batch_size=config[\"batch_size\"], shuffle=True)\n",
    "val_loader = DataLoader(val_dataset, batch_size=config[\"batch_size\"])"
   ],
   "id": "87b33127adde7fd6",
   "outputs": [
    {
     "name": "stdout",
     "output_type": "stream",
     "text": [
      "294\n"
     ]
    }
   ],
   "execution_count": 11
  },
  {
   "metadata": {},
   "cell_type": "markdown",
   "source": "### Coding",
   "id": "d6dba12def0b850f"
  },
  {
   "metadata": {
    "ExecuteTime": {
     "end_time": "2025-04-15T09:37:38.579810Z",
     "start_time": "2025-04-15T09:37:38.575796Z"
    }
   },
   "cell_type": "code",
   "source": [
    "def length_to_mask(inputs, lengths, dtype=None):\n",
    "    batch_size = lengths.size(0)\n",
    "    seq_len = inputs.size(1) if isinstance(inputs, torch.Tensor) else inputs\n",
    "    # Causal mask [seq_len, seq_len]\n",
    "    tgt_mask = torch.triu(torch.ones((seq_len, seq_len), device=device)).transpose(0, 1)\n",
    "    tgt_mask = tgt_mask.float().masked_fill(tgt_mask == 0, float('-inf')).masked_fill(tgt_mask == 1, float(0.0))\n",
    "\n",
    "    # Padding mask [batch_size, seq_len]\n",
    "    key_padding_mask = (torch.arange(seq_len, device=device).expand(batch_size, seq_len) >= lengths.unsqueeze(1))\n",
    "\n",
    "    if dtype is not None:\n",
    "        key_padding_mask = key_padding_mask.to(dtype=dtype)\n",
    "\n",
    "    return tgt_mask, key_padding_mask"
   ],
   "id": "c1b9ac55a32e997f",
   "outputs": [],
   "execution_count": 6
  },
  {
   "metadata": {
    "ExecuteTime": {
     "end_time": "2025-04-15T10:07:50.078224Z",
     "start_time": "2025-04-15T10:07:50.073115Z"
    }
   },
   "cell_type": "code",
   "source": [
    "def beam_search_decode(model, input_seq, lengths, beam_width=5, max_len=100, device='cuda'):\n",
    "    model.eval()\n",
    "    with torch.no_grad():\n",
    "        input_seq = input_seq.unsqueeze(0).to(device)\n",
    "        lengths = (torch.tensor(lengths).to(device) - 1).unsqueeze(0)\n",
    "\n",
    "        # Начальная последовательность (BOS/start token)\n",
    "        sequences = [[(input_seq[0][:1].tolist(), 0.0)]]  # [(tokens, score)]\n",
    "\n",
    "        for _ in range(max_len):\n",
    "            all_candidates = []\n",
    "            for seq, score in sequences[-1]:\n",
    "                if seq[-1] == token_to_id[\"<|endoftext|>\"]:  # завершённая гипотеза\n",
    "                    all_candidates.append((seq, score))\n",
    "                    continue\n",
    "\n",
    "                seq_tensor = torch.tensor(seq, dtype=torch.long).unsqueeze(0).to(device)\n",
    "                lengths_tensor = torch.tensor([len(seq)]).to(device)\n",
    "\n",
    "                tgt_mask, tgt_key_padding_mask = length_to_mask(len(seq), lengths_tensor)\n",
    "                tgt_mask, tgt_key_padding_mask = tgt_mask.to(device), tgt_key_padding_mask.to(device)\n",
    "\n",
    "                outputs = model(seq_tensor, tgt_mask=tgt_mask, lengths=lengths_tensor, tgt_key_padding_mask=tgt_key_padding_mask)\n",
    "                next_token_logits = outputs[0, -1, :]  # последний токен\n",
    "\n",
    "                probs = F.log_softmax(next_token_logits, dim=-1)\n",
    "                topk_probs, topk_indices = probs.topk(beam_width)\n",
    "\n",
    "                for i in range(beam_width):\n",
    "                    next_seq = seq + [topk_indices[i].item()]\n",
    "                    next_score = score + topk_probs[i].item()\n",
    "                    all_candidates.append((next_seq, next_score))\n",
    "\n",
    "            # Выбираем beam_width лучших гипотез\n",
    "            ordered = sorted(all_candidates, key=lambda tup: tup[1], reverse=True)\n",
    "            sequences.append(ordered[:beam_width])\n",
    "\n",
    "            # Если все последовательности закончены\n",
    "            if all(seq[-1] == token_to_id[\"<|endoftext|>\"] for seq, _ in sequences[-1]):\n",
    "                break\n",
    "\n",
    "        final_seq = sequences[-1][0][0]\n",
    "        return final_seq"
   ],
   "id": "cf41229f6e30f432",
   "outputs": [],
   "execution_count": 24
  },
  {
   "metadata": {
    "ExecuteTime": {
     "end_time": "2025-04-15T10:07:52.523869Z",
     "start_time": "2025-04-15T10:07:52.486279Z"
    }
   },
   "cell_type": "code",
   "source": [
    "i = 5\n",
    "input_data = train_dataset[i][0]\n",
    "lengths = train_dataset[i][1]\n",
    "\n",
    "model_pattern = os.path.join(\"../best_models/transformer\", \"model_244_*\")\n",
    "model_files = glob.glob(model_pattern)\n",
    "\n",
    "if not model_files:\n",
    "    raise FileNotFoundError(f\"Файл не найден по шаблону: {model_pattern}\")\n",
    "\n",
    "model_path = model_files[0]\n",
    "\n",
    "checkpoint = torch.load(model_path, map_location=device)\n",
    "\n",
    "# 3. Применение весов\n",
    "model.load_state_dict(checkpoint)"
   ],
   "id": "e7eb9ecfa9b2eeb0",
   "outputs": [
    {
     "name": "stderr",
     "output_type": "stream",
     "text": [
      "C:\\Users\\User\\AppData\\Local\\Temp\\ipykernel_81952\\281680681.py:25: UserWarning: To copy construct from a tensor, it is recommended to use sourceTensor.clone().detach() or sourceTensor.clone().detach().requires_grad_(True), rather than torch.tensor(sourceTensor).\n",
      "  return torch.tensor(sample, dtype=torch.float), length\n"
     ]
    },
    {
     "data": {
      "text/plain": [
       "<All keys matched successfully>"
      ]
     },
     "execution_count": 25,
     "metadata": {},
     "output_type": "execute_result"
    }
   ],
   "execution_count": 25
  },
  {
   "metadata": {},
   "cell_type": "code",
   "outputs": [],
   "execution_count": null,
   "source": "",
   "id": "7a4320aa96ffcd65"
  },
  {
   "metadata": {
    "ExecuteTime": {
     "end_time": "2025-04-15T10:12:02.185749Z",
     "start_time": "2025-04-15T10:11:43.882415Z"
    }
   },
   "cell_type": "code",
   "source": [
    "\n",
    "# Декодируем\n",
    "output_ids = beam_search_decode(model, input_data, lengths, beam_width=5, max_len=100, device=device)\n",
    "\n",
    "# Преобразуем в текст\n",
    "tokens = [id_to_token[tok] for tok in output_ids]\n",
    "text = ''.join(tokens[1:-1]).replace(\"Ġ\", \" \")\n",
    "print(text)"
   ],
   "id": "13a39fc61084b7a6",
   "outputs": [
    {
     "name": "stdout",
     "output_type": "stream",
     "text": [
      "I DON'T KNOW\n"
     ]
    }
   ],
   "execution_count": 43
  }
 ],
 "metadata": {
  "kernelspec": {
   "display_name": "Python 3",
   "language": "python",
   "name": "python3"
  },
  "language_info": {
   "codemirror_mode": {
    "name": "ipython",
    "version": 2
   },
   "file_extension": ".py",
   "mimetype": "text/x-python",
   "name": "python",
   "nbconvert_exporter": "python",
   "pygments_lexer": "ipython2",
   "version": "2.7.6"
  }
 },
 "nbformat": 4,
 "nbformat_minor": 5
}
