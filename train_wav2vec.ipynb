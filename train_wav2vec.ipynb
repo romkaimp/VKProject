{
 "cells": [
  {
   "cell_type": "code",
   "id": "initial_id",
   "metadata": {
    "collapsed": true,
    "ExecuteTime": {
     "end_time": "2025-04-15T14:12:16.628165Z",
     "start_time": "2025-04-15T14:12:13.734352Z"
    }
   },
   "source": [
    "import numpy as np\n",
    "import torch \n",
    "import torch.nn as nn\n",
    "import torch.nn.functional as F\n",
    "import torchaudio\n",
    "import torchaudio.datasets as datasets\n",
    "from torch.optim.lr_scheduler import CosineAnnealingWarmRestarts\n",
    "import torchaudio.transforms as T\n",
    "import matplotlib.pyplot as plt\n",
    "from torchaudio.datasets import LIBRISPEECH\n",
    "\n",
    "from dataset_SpecAugment import MyPipeline, LibriSpeechWav2Vec\n",
    "from wav2vec import (\n",
    "    Wav2Vec,\n",
    "    ContrastiveLoss\n",
    ")\n",
    "import wandb\n",
    "from tqdm import tqdm"
   ],
   "outputs": [],
   "execution_count": 1
  },
  {
   "metadata": {},
   "cell_type": "markdown",
   "source": "### Dataset",
   "id": "3d679e28970b3a35"
  },
  {
   "metadata": {
    "ExecuteTime": {
     "end_time": "2025-04-15T14:12:24.453439Z",
     "start_time": "2025-04-15T14:12:17.995919Z"
    }
   },
   "cell_type": "code",
   "source": [
    "data = datasets.LIBRISPEECH(\"data\", url=\"dev-clean\",)\n",
    "samples = []\n",
    "lens = []\n",
    "for i in range(2800):\n",
    "    try:\n",
    "        samples.append(data.__getitem__(i))\n",
    "        lens.append(data.__getitem__(i)[0].shape[1])\n",
    "    except IndexError as err:\n",
    "        break\n",
    "\n",
    "num = len(samples)\n",
    "\n",
    "print(\"Total num of .flac:\", num)\n",
    "print(\"Max len and min len of .flac (sec * 16000)\", max(lens), min(lens))\n",
    "plt.hist(lens, density=True)\n",
    "plt.show()\n",
    "arr = np.array(lens)"
   ],
   "id": "beae403357fb72ee",
   "outputs": [
    {
     "name": "stdout",
     "output_type": "stream",
     "text": [
      "Total num of .flac: 2703\n",
      "Max len and min len of .flac (sec * 16000) 522320 23120\n"
     ]
    },
    {
     "data": {
      "text/plain": [
       "<Figure size 640x480 with 1 Axes>"
      ],
      "image/png": "[encoded data removed]"
     },
     "metadata": {},
     "output_type": "display_data"
    }
   ],
   "execution_count": 2
  },
  {
   "metadata": {},
   "cell_type": "markdown",
   "source": "### Config wandb",
   "id": "5554f0ad87b44e3c"
  },
  {
   "metadata": {
    "ExecuteTime": {
     "end_time": "2025-04-15T14:12:32.627675Z",
     "start_time": "2025-04-15T14:12:27.071540Z"
    }
   },
   "cell_type": "code",
   "source": [
    "wandb.init(project='Wav2Vec')\n",
    "config = {\n",
    "    'depthwise_conv_kernel_size':3,\n",
    "    'num_heads':8,\n",
    "    'num_conformers':4,\n",
    "    'mask_ratio':0.05,\n",
    "    'distraction_ratio':0.05,\n",
    "    'learning_rate': 0.001,\n",
    "    'batch_size': 64,\n",
    "    'epochs': 128,\n",
    "    'input_dim': 128,\n",
    "    'embedding_dim': 64,\n",
    "    'temperature':0.5,\n",
    "    'dataset': \"LibriSpeech dev-clean\",\n",
    "}\n",
    "torch.autograd.set_detect_anomaly(True)\n",
    "wandb.config.update(config)"
   ],
   "id": "3007e7867ec7774f",
   "outputs": [
    {
     "name": "stderr",
     "output_type": "stream",
     "text": [
      "Failed to detect the name of this notebook, you can set it manually with the WANDB_NOTEBOOK_NAME environment variable to enable code saving.\n",
      "wandb: Currently logged in as: roman-kuznetsov (roman-kuznetsov-bmstu-) to https://api.wandb.ai. Use `wandb login --relogin` to force relogin\n",
      "wandb: Using wandb-core as the SDK backend.  Please refer to https://wandb.me/wandb-core for more information.\n"
     ]
    },
    {
     "data": {
      "text/plain": [
       "<IPython.core.display.HTML object>"
      ],
      "text/html": [
       "Tracking run with wandb version 0.19.6"
      ]
     },
     "metadata": {},
     "output_type": "display_data"
    },
    {
     "data": {
      "text/plain": [
       "<IPython.core.display.HTML object>"
      ],
      "text/html": [
       "Run data is saved locally in <code>D:\\PyCharmPrj\\VKProject\\wandb\\run-20250415_171231-adcpyzdk</code>"
      ]
     },
     "metadata": {},
     "output_type": "display_data"
    },
    {
     "data": {
      "text/plain": [
       "<IPython.core.display.HTML object>"
      ],
      "text/html": [
       "Syncing run <strong><a href='https://wandb.ai/roman-kuznetsov-bmstu-/Wav2Vec/runs/adcpyzdk' target=\"_blank\">treasured-glitter-17</a></strong> to <a href='https://wandb.ai/roman-kuznetsov-bmstu-/Wav2Vec' target=\"_blank\">Weights & Biases</a> (<a href='https://wandb.me/developer-guide' target=\"_blank\">docs</a>)<br>"
      ]
     },
     "metadata": {},
     "output_type": "display_data"
    },
    {
     "data": {
      "text/plain": [
       "<IPython.core.display.HTML object>"
      ],
      "text/html": [
       " View project at <a href='https://wandb.ai/roman-kuznetsov-bmstu-/Wav2Vec' target=\"_blank\">https://wandb.ai/roman-kuznetsov-bmstu-/Wav2Vec</a>"
      ]
     },
     "metadata": {},
     "output_type": "display_data"
    },
    {
     "data": {
      "text/plain": [
       "<IPython.core.display.HTML object>"
      ],
      "text/html": [
       " View run at <a href='https://wandb.ai/roman-kuznetsov-bmstu-/Wav2Vec/runs/adcpyzdk' target=\"_blank\">https://wandb.ai/roman-kuznetsov-bmstu-/Wav2Vec/runs/adcpyzdk</a>"
      ]
     },
     "metadata": {},
     "output_type": "display_data"
    }
   ],
   "execution_count": 3
  },
  {
   "metadata": {},
   "cell_type": "code",
   "outputs": [],
   "execution_count": null,
   "source": [
    "dataset = LibriSpeechWav2Vec(\"data\",\n",
    "                             url=\"dev-clean\",\n",
    "                             max_length=int(arr.mean()\n",
    "                                            + arr.std() * 3\n",
    "                                            ),\n",
    "                             n_mel=config['input_dim'],)\n",
    "device = torch.device(\"cuda\" if torch.cuda.is_available() else \"cpu\")\n",
    "dataloader = torch.utils.data.DataLoader(dataset,\n",
    "                                         shuffle=True,\n",
    "                                         batch_size=config[\"batch_size\"],)\n",
    "print(device)"
   ],
   "id": "5184ae51982e9e61"
  },
  {
   "metadata": {
    "ExecuteTime": {
     "end_time": "2025-04-15T14:13:02.652962Z",
     "start_time": "2025-04-15T14:13:02.649199Z"
    }
   },
   "cell_type": "code",
   "source": "print(int(arr.mean() + arr.std() * 3))",
   "id": "cf3a028d8e647ee4",
   "outputs": [
    {
     "name": "stdout",
     "output_type": "stream",
     "text": [
      "340160\n"
     ]
    }
   ],
   "execution_count": 5
  },
  {
   "metadata": {},
   "cell_type": "markdown",
   "source": "### Model",
   "id": "ed9c4467ed07c04"
  },
  {
   "metadata": {
    "ExecuteTime": {
     "end_time": "2025-04-15T11:09:27.371771Z",
     "start_time": "2025-04-15T11:09:27.355578Z"
    }
   },
   "cell_type": "code",
   "source": [
    "model = Wav2Vec(input_dim=config[\"input_dim\"],\n",
    "                embed_dim=config['embedding_dim'],\n",
    "                ffn_dim=config['embedding_dim'], \n",
    "                depthwise_conv_kernel_size=config['depthwise_conv_kernel_size'],\n",
    "                num_heads=config['num_heads'],\n",
    "                num_conformers=config['num_conformers'],\n",
    "                mask_ratio=config['mask_ratio'],\n",
    "                distraction_ratio=config['distraction_ratio'],)\n",
    "model = model.to(device)\n",
    "criterion = ContrastiveLoss(temperature=config['temperature'])\n",
    "optimizer = torch.optim.Adam(model.parameters(), lr=config[\"learning_rate\"])\n",
    "scheduler = CosineAnnealingWarmRestarts(optimizer, T_0=5, T_mult=2)"
   ],
   "id": "fd2b321a91bf4d75",
   "outputs": [],
   "execution_count": 19
  },
  {
   "metadata": {},
   "cell_type": "markdown",
   "source": "### Training",
   "id": "7d60132b4e40878f"
  },
  {
   "metadata": {
    "ExecuteTime": {
     "end_time": "2025-04-15T11:26:18.866974Z",
     "start_time": "2025-04-15T11:09:27.459191Z"
    }
   },
   "cell_type": "code",
   "source": [
    "warmup_epochs = 3\n",
    "warmup_factor = 0.2\n",
    "\n",
    "best_loss = float(\"inf\")\n",
    "patience = 5\n",
    "no_improve_epochs = 0\n",
    "\n",
    "for epoch in range(config[\"epochs\"]):\n",
    "    model.train()\n",
    "    epoch_loss = 0.0\n",
    "    pbar = tqdm(dataloader, desc=f\"Epoch {epoch+1}/{config['epochs']}\", leave=False)\n",
    "\n",
    "    # Warmup lr manually\n",
    "    if epoch < warmup_epochs:\n",
    "        warmup_lr = config[\"learning_rate\"] * (warmup_factor + (1 - warmup_factor) * (epoch / warmup_epochs))\n",
    "        for param_group in optimizer.param_groups:\n",
    "            param_group[\"lr\"] = warmup_lr\n",
    "\n",
    "    for x, lengths in pbar:\n",
    "        x, lengths = x.to(device), lengths.to(device)\n",
    "        optimizer.zero_grad()\n",
    "\n",
    "        c, y_t, y_distraction = model(x, lengths)\n",
    "        loss = criterion(c, y_t, y_distraction)\n",
    "\n",
    "        loss.backward()\n",
    "        optimizer.step()\n",
    "        epoch_loss += loss.item()\n",
    "\n",
    "        pbar.set_postfix({\"loss\": f\"{loss.item():.4f}\"})\n",
    "\n",
    "    # Шедулер обновляется по epoch\n",
    "    scheduler.step()\n",
    "\n",
    "    avg_loss = epoch_loss / len(dataloader)\n",
    "    wandb.log({\n",
    "        \"loss\": avg_loss,\n",
    "        \"learning_rate\": optimizer.param_groups[0][\"lr\"],\n",
    "        \"epoch\": epoch\n",
    "    })\n",
    "    print(f\"Epoch {epoch + 1} - Avg Loss: {avg_loss:.4f}\")\n",
    "\n",
    "    # Early stopping & best model saving\n",
    "    if avg_loss < best_loss:\n",
    "        best_loss = avg_loss\n",
    "        no_improve_epochs = 0\n",
    "        torch.save(model.state_dict(), f\"{wandb.run.dir}/BestModel.pt\")\n",
    "    else:\n",
    "        no_improve_epochs += 1\n",
    "        if no_improve_epochs >= patience:\n",
    "            print(\"Early stopping triggered.\")\n",
    "            break\n",
    "\n",
    "wandb.finish()"
   ],
   "id": "451cc6df873d84f4",
   "outputs": [
    {
     "name": "stderr",
     "output_type": "stream",
     "text": [
      "                                                                         \r"
     ]
    },
    {
     "name": "stdout",
     "output_type": "stream",
     "text": [
      "Epoch 1 - Avg Loss: 3.2621\n"
     ]
    },
    {
     "name": "stderr",
     "output_type": "stream",
     "text": [
      "                                                                         \r"
     ]
    },
    {
     "name": "stdout",
     "output_type": "stream",
     "text": [
      "Epoch 2 - Avg Loss: 3.1176\n"
     ]
    },
    {
     "name": "stderr",
     "output_type": "stream",
     "text": [
      "                                                                         \r"
     ]
    },
    {
     "name": "stdout",
     "output_type": "stream",
     "text": [
      "Epoch 3 - Avg Loss: 3.0711\n"
     ]
    },
    {
     "name": "stderr",
     "output_type": "stream",
     "text": [
      "                                                                         \r"
     ]
    },
    {
     "name": "stdout",
     "output_type": "stream",
     "text": [
      "Epoch 4 - Avg Loss: 3.0444\n"
     ]
    },
    {
     "name": "stderr",
     "output_type": "stream",
     "text": [
      "                                                                         \r"
     ]
    },
    {
     "name": "stdout",
     "output_type": "stream",
     "text": [
      "Epoch 5 - Avg Loss: 3.0395\n"
     ]
    },
    {
     "name": "stderr",
     "output_type": "stream",
     "text": [
      "                                                                         \r"
     ]
    },
    {
     "name": "stdout",
     "output_type": "stream",
     "text": [
      "Epoch 6 - Avg Loss: 3.0391\n"
     ]
    },
    {
     "name": "stderr",
     "output_type": "stream",
     "text": [
      "                                                                         \r"
     ]
    },
    {
     "name": "stdout",
     "output_type": "stream",
     "text": [
      "Epoch 7 - Avg Loss: 3.0377\n"
     ]
    },
    {
     "name": "stderr",
     "output_type": "stream",
     "text": [
      "                                                                         \r"
     ]
    },
    {
     "name": "stdout",
     "output_type": "stream",
     "text": [
      "Epoch 8 - Avg Loss: 3.0255\n"
     ]
    },
    {
     "name": "stderr",
     "output_type": "stream",
     "text": [
      "                                                                         \r"
     ]
    },
    {
     "name": "stdout",
     "output_type": "stream",
     "text": [
      "Epoch 9 - Avg Loss: 3.0286\n"
     ]
    },
    {
     "name": "stderr",
     "output_type": "stream",
     "text": [
      "                                                                          \r"
     ]
    },
    {
     "name": "stdout",
     "output_type": "stream",
     "text": [
      "Epoch 10 - Avg Loss: 2.9927\n"
     ]
    },
    {
     "name": "stderr",
     "output_type": "stream",
     "text": [
      "                                                                          \r"
     ]
    },
    {
     "name": "stdout",
     "output_type": "stream",
     "text": [
      "Epoch 11 - Avg Loss: 2.9980\n"
     ]
    },
    {
     "name": "stderr",
     "output_type": "stream",
     "text": [
      "                                                                          \r"
     ]
    },
    {
     "name": "stdout",
     "output_type": "stream",
     "text": [
      "Epoch 12 - Avg Loss: 3.0219\n"
     ]
    },
    {
     "name": "stderr",
     "output_type": "stream",
     "text": [
      "                                                                          \r"
     ]
    },
    {
     "name": "stdout",
     "output_type": "stream",
     "text": [
      "Epoch 13 - Avg Loss: 2.9893\n"
     ]
    },
    {
     "name": "stderr",
     "output_type": "stream",
     "text": [
      "                                                                          \r"
     ]
    },
    {
     "name": "stdout",
     "output_type": "stream",
     "text": [
      "Epoch 14 - Avg Loss: 2.9462\n"
     ]
    },
    {
     "name": "stderr",
     "output_type": "stream",
     "text": [
      "                                                                          \r"
     ]
    },
    {
     "name": "stdout",
     "output_type": "stream",
     "text": [
      "Epoch 15 - Avg Loss: 2.9833\n"
     ]
    },
    {
     "name": "stderr",
     "output_type": "stream",
     "text": [
      "                                                                          \r"
     ]
    },
    {
     "name": "stdout",
     "output_type": "stream",
     "text": [
      "Epoch 16 - Avg Loss: 3.0330\n"
     ]
    },
    {
     "name": "stderr",
     "output_type": "stream",
     "text": [
      "                                                                          \r"
     ]
    },
    {
     "name": "stdout",
     "output_type": "stream",
     "text": [
      "Epoch 17 - Avg Loss: 2.9848\n"
     ]
    },
    {
     "name": "stderr",
     "output_type": "stream",
     "text": [
      "                                                                          \r"
     ]
    },
    {
     "name": "stdout",
     "output_type": "stream",
     "text": [
      "Epoch 18 - Avg Loss: 3.0340\n"
     ]
    },
    {
     "name": "stderr",
     "output_type": "stream",
     "text": [
      "                                                                          \r"
     ]
    },
    {
     "name": "stdout",
     "output_type": "stream",
     "text": [
      "Epoch 19 - Avg Loss: 2.9893\n",
      "Early stopping triggered.\n"
     ]
    },
    {
     "data": {
      "text/plain": [
       "<IPython.core.display.HTML object>"
      ],
      "text/html": []
     },
     "metadata": {},
     "output_type": "display_data"
    },
    {
     "data": {
      "text/plain": [
       "<IPython.core.display.HTML object>"
      ],
      "text/html": [
       "<br>    <style><br>        .wandb-row {<br>            display: flex;<br>            flex-direction: row;<br>            flex-wrap: wrap;<br>            justify-content: flex-start;<br>            width: 100%;<br>        }<br>        .wandb-col {<br>            display: flex;<br>            flex-direction: column;<br>            flex-basis: 100%;<br>            flex: 1;<br>            padding: 10px;<br>        }<br>    </style><br><div class=\"wandb-row\"><div class=\"wandb-col\"><h3>Run history:</h3><br/><table class=\"wandb\"><tr><td>epoch</td><td>▁▁▂▂▃▁▁▂▂▃▃▃▄▄▅▅▅▆▆▆▇▇██</td></tr><tr><td>learning_rate</td><td>▇▆▃▂█▁▁▁▁▁▁▁▁▁▁▁▁▁▁▁▁▁▁▁</td></tr><tr><td>loss</td><td>▇▇███▂▂▁▁▁▁▁▁▁▁▁▁▁▁▁▁▁▁▁</td></tr></table><br/></div><div class=\"wandb-col\"><h3>Run summary:</h3><br/><table class=\"wandb\"><tr><td>epoch</td><td>18</td></tr><tr><td>learning_rate</td><td>0.0009</td></tr><tr><td>loss</td><td>2.98927</td></tr></table><br/></div></div>"
      ]
     },
     "metadata": {},
     "output_type": "display_data"
    },
    {
     "data": {
      "text/plain": [
       "<IPython.core.display.HTML object>"
      ],
      "text/html": [
       " View run <strong style=\"color:#cdcd00\">super-elevator-16</strong> at: <a href='https://wandb.ai/roman-kuznetsov-bmstu-/Wav2Vec/runs/0j6ueqxu' target=\"_blank\">https://wandb.ai/roman-kuznetsov-bmstu-/Wav2Vec/runs/0j6ueqxu</a><br> View project at: <a href='https://wandb.ai/roman-kuznetsov-bmstu-/Wav2Vec' target=\"_blank\">https://wandb.ai/roman-kuznetsov-bmstu-/Wav2Vec</a><br>Synced 5 W&B file(s), 0 media file(s), 0 artifact file(s) and 0 other file(s)"
      ]
     },
     "metadata": {},
     "output_type": "display_data"
    },
    {
     "data": {
      "text/plain": [
       "<IPython.core.display.HTML object>"
      ],
      "text/html": [
       "Find logs at: <code>.\\wandb\\run-20250415_140528-0j6ueqxu\\logs</code>"
      ]
     },
     "metadata": {},
     "output_type": "display_data"
    }
   ],
   "execution_count": 20
  },
  {
   "metadata": {
    "ExecuteTime": {
     "end_time": "2025-04-15T11:30:44.673194Z",
     "start_time": "2025-04-15T11:30:44.658120Z"
    }
   },
   "cell_type": "code",
   "source": "torch.save(model.state_dict(), f\"best_models/wav2vec/NewModel2.pt\")",
   "id": "4875ed7650daa9fb",
   "outputs": [],
   "execution_count": 21
  }
 ],
 "metadata": {
  "kernelspec": {
   "display_name": "Python 3",
   "language": "python",
   "name": "python3"
  },
  "language_info": {
   "codemirror_mode": {
    "name": "ipython",
    "version": 2
   },
   "file_extension": ".py",
   "mimetype": "text/x-python",
   "name": "python",
   "nbconvert_exporter": "python",
   "pygments_lexer": "ipython2",
   "version": "2.7.6"
  }
 },
 "nbformat": 4,
 "nbformat_minor": 5
}
